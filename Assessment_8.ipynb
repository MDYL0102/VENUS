{
  "nbformat": 4,
  "nbformat_minor": 0,
  "metadata": {
    "colab": {
      "name": "Assessment-8",
      "provenance": [],
      "collapsed_sections": [],
      "include_colab_link": true
    },
    "kernelspec": {
      "name": "ir",
      "display_name": "R"
    }
  },
  "cells": [
    {
      "cell_type": "markdown",
      "metadata": {
        "id": "view-in-github",
        "colab_type": "text"
      },
      "source": [
        "<a href=\"https://colab.research.google.com/github/MDYL0102/VENUS/blob/master/Assessment_8.ipynb\" target=\"_parent\"><img src=\"https://colab.research.google.com/assets/colab-badge.svg\" alt=\"Open In Colab\"/></a>"
      ]
    },
    {
      "cell_type": "code",
      "metadata": {
        "id": "EsPPnUwDs5u1",
        "outputId": "0b939072-2539-4e43-df41-aef4588d27df",
        "colab": {
          "base_uri": "https://localhost:8080/"
        }
      },
      "source": [
        "install.packages(\"rJava\")\n",
        "install.packages(\"jiebaR\")\n",
        "install.packages(\"tmcn\")\n",
        "install.packages(\"dplyr\")\n",
        "install.packages(\"lubridate\")\n",
        "install.packages(\"stringr\")\n",
        "install.packages(\"wordcloud\")\n",
        "install.packages(\"Rwordseg\",repos=\"http://R-Forge.R-project.org\")"
      ],
      "execution_count": 1,
      "outputs": [
        {
          "output_type": "stream",
          "text": [
            "Installing package into ‘/usr/local/lib/R/site-library’\n",
            "(as ‘lib’ is unspecified)\n",
            "\n",
            "Installing package into ‘/usr/local/lib/R/site-library’\n",
            "(as ‘lib’ is unspecified)\n",
            "\n",
            "also installing the dependency ‘jiebaRD’\n",
            "\n",
            "\n",
            "Installing package into ‘/usr/local/lib/R/site-library’\n",
            "(as ‘lib’ is unspecified)\n",
            "\n",
            "Installing package into ‘/usr/local/lib/R/site-library’\n",
            "(as ‘lib’ is unspecified)\n",
            "\n",
            "Installing package into ‘/usr/local/lib/R/site-library’\n",
            "(as ‘lib’ is unspecified)\n",
            "\n",
            "Installing package into ‘/usr/local/lib/R/site-library’\n",
            "(as ‘lib’ is unspecified)\n",
            "\n",
            "Installing package into ‘/usr/local/lib/R/site-library’\n",
            "(as ‘lib’ is unspecified)\n",
            "\n",
            "Installing package into ‘/usr/local/lib/R/site-library’\n",
            "(as ‘lib’ is unspecified)\n",
            "\n",
            "Warning message:\n",
            "“dependency ‘HMM’ is not available”\n",
            "Warning message in install.packages(\"Rwordseg\", repos = \"http://R-Forge.R-project.org\"):\n",
            "“installation of package ‘Rwordseg’ had non-zero exit status”\n"
          ],
          "name": "stderr"
        }
      ]
    },
    {
      "cell_type": "code",
      "metadata": {
        "id": "sSx3zJ2QuHok",
        "outputId": "873ca098-3cb5-4826-e5a0-61c47dafbb86",
        "colab": {
          "base_uri": "https://localhost:8080/"
        }
      },
      "source": [
        "library(dplyr)\n",
        "library(lubridate)\n",
        "library(stringr)\n",
        "library(jiebaR)\n",
        "library(wordcloud)"
      ],
      "execution_count": 2,
      "outputs": [
        {
          "output_type": "stream",
          "text": [
            "\n",
            "Attaching package: ‘dplyr’\n",
            "\n",
            "\n",
            "The following objects are masked from ‘package:stats’:\n",
            "\n",
            "    filter, lag\n",
            "\n",
            "\n",
            "The following objects are masked from ‘package:base’:\n",
            "\n",
            "    intersect, setdiff, setequal, union\n",
            "\n",
            "\n",
            "\n",
            "Attaching package: ‘lubridate’\n",
            "\n",
            "\n",
            "The following objects are masked from ‘package:base’:\n",
            "\n",
            "    date, intersect, setdiff, union\n",
            "\n",
            "\n",
            "Loading required package: jiebaRD\n",
            "\n",
            "Loading required package: RColorBrewer\n",
            "\n"
          ],
          "name": "stderr"
        }
      ]
    },
    {
      "cell_type": "code",
      "metadata": {
        "id": "RtDnqNhUuMuC"
      },
      "source": [
        "content <- \"修齊 修齊\n",
        "你有個伶俐的嘴\n",
        "還有雙女人的腿\n",
        "真愛來之前 不用找女人來練習\n",
        "寂寞難過 就摸摸自己的下體\n",
        "修齊 修齊\n",
        "別人掉的套套不是給你\n",
        "那不屬於你\n",
        "你寫的歌曲 是別人拿來約妹的歌曲\n",
        "唯一不會欺騙你 就是你純真的下體\n",
        "我祝 你別再魯啦\n",
        "別人扣雞拜 我們在找網咖\n",
        "來看我們的妹子 在共演團的人床上\n",
        "你覺得這樣 很風光嗎\n",
        "你也不必 太在乎啊\n",
        "別人吃菊花時 你有三花\n",
        "白色的家族希望 就弄在自己的大腿上\n",
        "摸摸自己 也挺高尚\n",
        "如果保險套會過期\n",
        "你要給我 還是留給自己\n",
        "衛生紙裡的生命 就讓他死去\n",
        "今後自己 別只愛自己\n",
        "我祝 你別再魯啦\n",
        "別人扣雞拜 我們在找網咖\n",
        "來看我們的妹子 在共演團的人床上\n",
        "你覺得這樣 很風光嗎\n",
        "你也不必 太在乎啊\n",
        "別人吃菊花時 你有三花\n",
        "白色的家族希望 就弄在自己的大腿上\n",
        "摸摸自己 問問自己 挺高尚\""
      ],
      "execution_count": 11,
      "outputs": []
    },
    {
      "cell_type": "code",
      "metadata": {
        "id": "XMJab9WPudxa",
        "outputId": "24e72771-7528-4d21-9648-e94e943dea7a",
        "colab": {
          "base_uri": "https://localhost:8080/",
          "height": 102
        }
      },
      "source": [
        "cutter <- worker(bylines=F)\n",
        "cutter[content]"
      ],
      "execution_count": 12,
      "outputs": [
        {
          "output_type": "display_data",
          "data": {
            "text/plain": [
              "  [1] \"修齊\"   \"修齊\"   \"你\"     \"有\"     \"個\"     \"伶俐\"   \"的\"     \"嘴\"    \n",
              "  [9] \"還有\"   \"雙\"     \"女人\"   \"的\"     \"腿\"     \"真愛\"   \"來\"     \"之前\"  \n",
              " [17] \"不用\"   \"找\"     \"女人\"   \"來\"     \"練習\"   \"寂寞\"   \"難過\"   \"就\"    \n",
              " [25] \"摸摸\"   \"自己\"   \"的\"     \"下體\"   \"修齊\"   \"修齊\"   \"別人\"   \"掉\"    \n",
              " [33] \"的\"     \"套套\"   \"不是\"   \"給你\"   \"那\"     \"不\"     \"屬於\"   \"你\"    \n",
              " [41] \"你\"     \"寫\"     \"的\"     \"歌曲\"   \"是\"     \"別人\"   \"拿來\"   \"約妹\"  \n",
              " [49] \"的\"     \"歌曲\"   \"唯一\"   \"不會\"   \"欺騙\"   \"你\"     \"就是\"   \"你\"    \n",
              " [57] \"純真\"   \"的\"     \"下體\"   \"我祝\"   \"你別\"   \"再\"     \"魯\"     \"啦\"    \n",
              " [65] \"別人\"   \"扣雞\"   \"拜\"     \"我們\"   \"在\"     \"找網\"   \"咖\"     \"來看\"  \n",
              " [73] \"我們\"   \"的\"     \"妹子\"   \"在\"     \"共\"     \"演團\"   \"的\"     \"人\"    \n",
              " [81] \"床上\"   \"你\"     \"覺得\"   \"這樣\"   \"很\"     \"風光\"   \"嗎\"     \"你\"    \n",
              " [89] \"也\"     \"不必\"   \"太\"     \"在乎\"   \"啊\"     \"別人\"   \"吃\"     \"菊花\"  \n",
              " [97] \"時\"     \"你\"     \"有\"     \"三花\"   \"白色\"   \"的\"     \"家族\"   \"希望\"  \n",
              "[105] \"就\"     \"弄\"     \"在\"     \"自己\"   \"的\"     \"大腿\"   \"上\"     \"摸摸\"  \n",
              "[113] \"自己\"   \"也\"     \"挺\"     \"高尚\"   \"如果\"   \"保險套\" \"會\"     \"過期\"  \n",
              "[121] \"你\"     \"要給\"   \"我\"     \"還是\"   \"留給\"   \"自己\"   \"衛生紙\" \"裡的\"  \n",
              "[129] \"生命\"   \"就讓\"   \"他\"     \"死去\"   \"今後\"   \"自己\"   \"別\"     \"只\"    \n",
              "[137] \"愛\"     \"自己\"   \"我祝\"   \"你別\"   \"再\"     \"魯\"     \"啦\"     \"別人\"  \n",
              "[145] \"扣雞\"   \"拜\"     \"我們\"   \"在\"     \"找網\"   \"咖\"     \"來看\"   \"我們\"  \n",
              "[153] \"的\"     \"妹子\"   \"在\"     \"共\"     \"演團\"   \"的\"     \"人\"     \"床上\"  \n",
              "[161] \"你\"     \"覺得\"   \"這樣\"   \"很\"     \"風光\"   \"嗎\"     \"你\"     \"也\"    \n",
              "[169] \"不必\"   \"太\"     \"在乎\"   \"啊\"     \"別人\"   \"吃\"     \"菊花\"   \"時\"    \n",
              "[177] \"你\"     \"有\"     \"三花\"   \"白色\"   \"的\"     \"家族\"   \"希望\"   \"就\"    \n",
              "[185] \"弄\"     \"在\"     \"自己\"   \"的\"     \"大腿\"   \"上\"     \"摸摸\"   \"自己\"  \n",
              "[193] \"問問\"   \"自己\"   \"挺\"     \"高尚\"  "
            ],
            "text/latex": "\\begin{enumerate*}\n\\item '修齊'\n\\item '修齊'\n\\item '你'\n\\item '有'\n\\item '個'\n\\item '伶俐'\n\\item '的'\n\\item '嘴'\n\\item '還有'\n\\item '雙'\n\\item '女人'\n\\item '的'\n\\item '腿'\n\\item '真愛'\n\\item '來'\n\\item '之前'\n\\item '不用'\n\\item '找'\n\\item '女人'\n\\item '來'\n\\item '練習'\n\\item '寂寞'\n\\item '難過'\n\\item '就'\n\\item '摸摸'\n\\item '自己'\n\\item '的'\n\\item '下體'\n\\item '修齊'\n\\item '修齊'\n\\item '別人'\n\\item '掉'\n\\item '的'\n\\item '套套'\n\\item '不是'\n\\item '給你'\n\\item '那'\n\\item '不'\n\\item '屬於'\n\\item '你'\n\\item '你'\n\\item '寫'\n\\item '的'\n\\item '歌曲'\n\\item '是'\n\\item '別人'\n\\item '拿來'\n\\item '約妹'\n\\item '的'\n\\item '歌曲'\n\\item '唯一'\n\\item '不會'\n\\item '欺騙'\n\\item '你'\n\\item '就是'\n\\item '你'\n\\item '純真'\n\\item '的'\n\\item '下體'\n\\item '我祝'\n\\item '你別'\n\\item '再'\n\\item '魯'\n\\item '啦'\n\\item '別人'\n\\item '扣雞'\n\\item '拜'\n\\item '我們'\n\\item '在'\n\\item '找網'\n\\item '咖'\n\\item '來看'\n\\item '我們'\n\\item '的'\n\\item '妹子'\n\\item '在'\n\\item '共'\n\\item '演團'\n\\item '的'\n\\item '人'\n\\item '床上'\n\\item '你'\n\\item '覺得'\n\\item '這樣'\n\\item '很'\n\\item '風光'\n\\item '嗎'\n\\item '你'\n\\item '也'\n\\item '不必'\n\\item '太'\n\\item '在乎'\n\\item '啊'\n\\item '別人'\n\\item '吃'\n\\item '菊花'\n\\item '時'\n\\item '你'\n\\item '有'\n\\item '三花'\n\\item '白色'\n\\item '的'\n\\item '家族'\n\\item '希望'\n\\item '就'\n\\item '弄'\n\\item '在'\n\\item '自己'\n\\item '的'\n\\item '大腿'\n\\item '上'\n\\item '摸摸'\n\\item '自己'\n\\item '也'\n\\item '挺'\n\\item '高尚'\n\\item '如果'\n\\item '保險套'\n\\item '會'\n\\item '過期'\n\\item '你'\n\\item '要給'\n\\item '我'\n\\item '還是'\n\\item '留給'\n\\item '自己'\n\\item '衛生紙'\n\\item '裡的'\n\\item '生命'\n\\item '就讓'\n\\item '他'\n\\item '死去'\n\\item '今後'\n\\item '自己'\n\\item '別'\n\\item '只'\n\\item '愛'\n\\item '自己'\n\\item '我祝'\n\\item '你別'\n\\item '再'\n\\item '魯'\n\\item '啦'\n\\item '別人'\n\\item '扣雞'\n\\item '拜'\n\\item '我們'\n\\item '在'\n\\item '找網'\n\\item '咖'\n\\item '來看'\n\\item '我們'\n\\item '的'\n\\item '妹子'\n\\item '在'\n\\item '共'\n\\item '演團'\n\\item '的'\n\\item '人'\n\\item '床上'\n\\item '你'\n\\item '覺得'\n\\item '這樣'\n\\item '很'\n\\item '風光'\n\\item '嗎'\n\\item '你'\n\\item '也'\n\\item '不必'\n\\item '太'\n\\item '在乎'\n\\item '啊'\n\\item '別人'\n\\item '吃'\n\\item '菊花'\n\\item '時'\n\\item '你'\n\\item '有'\n\\item '三花'\n\\item '白色'\n\\item '的'\n\\item '家族'\n\\item '希望'\n\\item '就'\n\\item '弄'\n\\item '在'\n\\item '自己'\n\\item '的'\n\\item '大腿'\n\\item '上'\n\\item '摸摸'\n\\item '自己'\n\\item '問問'\n\\item '自己'\n\\item '挺'\n\\item '高尚'\n\\end{enumerate*}\n",
            "text/markdown": "1. '修齊'\n2. '修齊'\n3. '你'\n4. '有'\n5. '個'\n6. '伶俐'\n7. '的'\n8. '嘴'\n9. '還有'\n10. '雙'\n11. '女人'\n12. '的'\n13. '腿'\n14. '真愛'\n15. '來'\n16. '之前'\n17. '不用'\n18. '找'\n19. '女人'\n20. '來'\n21. '練習'\n22. '寂寞'\n23. '難過'\n24. '就'\n25. '摸摸'\n26. '自己'\n27. '的'\n28. '下體'\n29. '修齊'\n30. '修齊'\n31. '別人'\n32. '掉'\n33. '的'\n34. '套套'\n35. '不是'\n36. '給你'\n37. '那'\n38. '不'\n39. '屬於'\n40. '你'\n41. '你'\n42. '寫'\n43. '的'\n44. '歌曲'\n45. '是'\n46. '別人'\n47. '拿來'\n48. '約妹'\n49. '的'\n50. '歌曲'\n51. '唯一'\n52. '不會'\n53. '欺騙'\n54. '你'\n55. '就是'\n56. '你'\n57. '純真'\n58. '的'\n59. '下體'\n60. '我祝'\n61. '你別'\n62. '再'\n63. '魯'\n64. '啦'\n65. '別人'\n66. '扣雞'\n67. '拜'\n68. '我們'\n69. '在'\n70. '找網'\n71. '咖'\n72. '來看'\n73. '我們'\n74. '的'\n75. '妹子'\n76. '在'\n77. '共'\n78. '演團'\n79. '的'\n80. '人'\n81. '床上'\n82. '你'\n83. '覺得'\n84. '這樣'\n85. '很'\n86. '風光'\n87. '嗎'\n88. '你'\n89. '也'\n90. '不必'\n91. '太'\n92. '在乎'\n93. '啊'\n94. '別人'\n95. '吃'\n96. '菊花'\n97. '時'\n98. '你'\n99. '有'\n100. '三花'\n101. '白色'\n102. '的'\n103. '家族'\n104. '希望'\n105. '就'\n106. '弄'\n107. '在'\n108. '自己'\n109. '的'\n110. '大腿'\n111. '上'\n112. '摸摸'\n113. '自己'\n114. '也'\n115. '挺'\n116. '高尚'\n117. '如果'\n118. '保險套'\n119. '會'\n120. '過期'\n121. '你'\n122. '要給'\n123. '我'\n124. '還是'\n125. '留給'\n126. '自己'\n127. '衛生紙'\n128. '裡的'\n129. '生命'\n130. '就讓'\n131. '他'\n132. '死去'\n133. '今後'\n134. '自己'\n135. '別'\n136. '只'\n137. '愛'\n138. '自己'\n139. '我祝'\n140. '你別'\n141. '再'\n142. '魯'\n143. '啦'\n144. '別人'\n145. '扣雞'\n146. '拜'\n147. '我們'\n148. '在'\n149. '找網'\n150. '咖'\n151. '來看'\n152. '我們'\n153. '的'\n154. '妹子'\n155. '在'\n156. '共'\n157. '演團'\n158. '的'\n159. '人'\n160. '床上'\n161. '你'\n162. '覺得'\n163. '這樣'\n164. '很'\n165. '風光'\n166. '嗎'\n167. '你'\n168. '也'\n169. '不必'\n170. '太'\n171. '在乎'\n172. '啊'\n173. '別人'\n174. '吃'\n175. '菊花'\n176. '時'\n177. '你'\n178. '有'\n179. '三花'\n180. '白色'\n181. '的'\n182. '家族'\n183. '希望'\n184. '就'\n185. '弄'\n186. '在'\n187. '自己'\n188. '的'\n189. '大腿'\n190. '上'\n191. '摸摸'\n192. '自己'\n193. '問問'\n194. '自己'\n195. '挺'\n196. '高尚'\n\n\n",
            "text/html": [
              "<style>\n",
              ".list-inline {list-style: none; margin:0; padding: 0}\n",
              ".list-inline>li {display: inline-block}\n",
              ".list-inline>li:not(:last-child)::after {content: \"\\00b7\"; padding: 0 .5ex}\n",
              "</style>\n",
              "<ol class=list-inline><li>'修齊'</li><li>'修齊'</li><li>'你'</li><li>'有'</li><li>'個'</li><li>'伶俐'</li><li>'的'</li><li>'嘴'</li><li>'還有'</li><li>'雙'</li><li>'女人'</li><li>'的'</li><li>'腿'</li><li>'真愛'</li><li>'來'</li><li>'之前'</li><li>'不用'</li><li>'找'</li><li>'女人'</li><li>'來'</li><li>'練習'</li><li>'寂寞'</li><li>'難過'</li><li>'就'</li><li>'摸摸'</li><li>'自己'</li><li>'的'</li><li>'下體'</li><li>'修齊'</li><li>'修齊'</li><li>'別人'</li><li>'掉'</li><li>'的'</li><li>'套套'</li><li>'不是'</li><li>'給你'</li><li>'那'</li><li>'不'</li><li>'屬於'</li><li>'你'</li><li>'你'</li><li>'寫'</li><li>'的'</li><li>'歌曲'</li><li>'是'</li><li>'別人'</li><li>'拿來'</li><li>'約妹'</li><li>'的'</li><li>'歌曲'</li><li>'唯一'</li><li>'不會'</li><li>'欺騙'</li><li>'你'</li><li>'就是'</li><li>'你'</li><li>'純真'</li><li>'的'</li><li>'下體'</li><li>'我祝'</li><li>'你別'</li><li>'再'</li><li>'魯'</li><li>'啦'</li><li>'別人'</li><li>'扣雞'</li><li>'拜'</li><li>'我們'</li><li>'在'</li><li>'找網'</li><li>'咖'</li><li>'來看'</li><li>'我們'</li><li>'的'</li><li>'妹子'</li><li>'在'</li><li>'共'</li><li>'演團'</li><li>'的'</li><li>'人'</li><li>'床上'</li><li>'你'</li><li>'覺得'</li><li>'這樣'</li><li>'很'</li><li>'風光'</li><li>'嗎'</li><li>'你'</li><li>'也'</li><li>'不必'</li><li>'太'</li><li>'在乎'</li><li>'啊'</li><li>'別人'</li><li>'吃'</li><li>'菊花'</li><li>'時'</li><li>'你'</li><li>'有'</li><li>'三花'</li><li>'白色'</li><li>'的'</li><li>'家族'</li><li>'希望'</li><li>'就'</li><li>'弄'</li><li>'在'</li><li>'自己'</li><li>'的'</li><li>'大腿'</li><li>'上'</li><li>'摸摸'</li><li>'自己'</li><li>'也'</li><li>'挺'</li><li>'高尚'</li><li>'如果'</li><li>'保險套'</li><li>'會'</li><li>'過期'</li><li>'你'</li><li>'要給'</li><li>'我'</li><li>'還是'</li><li>'留給'</li><li>'自己'</li><li>'衛生紙'</li><li>'裡的'</li><li>'生命'</li><li>'就讓'</li><li>'他'</li><li>'死去'</li><li>'今後'</li><li>'自己'</li><li>'別'</li><li>'只'</li><li>'愛'</li><li>'自己'</li><li>'我祝'</li><li>'你別'</li><li>'再'</li><li>'魯'</li><li>'啦'</li><li>'別人'</li><li>'扣雞'</li><li>'拜'</li><li>'我們'</li><li>'在'</li><li>'找網'</li><li>'咖'</li><li>'來看'</li><li>'我們'</li><li>'的'</li><li>'妹子'</li><li>'在'</li><li>'共'</li><li>'演團'</li><li>'的'</li><li>'人'</li><li>'床上'</li><li>'你'</li><li>'覺得'</li><li>'這樣'</li><li>'很'</li><li>'風光'</li><li>'嗎'</li><li>'你'</li><li>'也'</li><li>'不必'</li><li>'太'</li><li>'在乎'</li><li>'啊'</li><li>'別人'</li><li>'吃'</li><li>'菊花'</li><li>'時'</li><li>'你'</li><li>'有'</li><li>'三花'</li><li>'白色'</li><li>'的'</li><li>'家族'</li><li>'希望'</li><li>'就'</li><li>'弄'</li><li>'在'</li><li>'自己'</li><li>'的'</li><li>'大腿'</li><li>'上'</li><li>'摸摸'</li><li>'自己'</li><li>'問問'</li><li>'自己'</li><li>'挺'</li><li>'高尚'</li></ol>\n"
            ]
          },
          "metadata": {
            "tags": []
          }
        }
      ]
    },
    {
      "cell_type": "code",
      "metadata": {
        "id": "m7VktAImusQ6"
      },
      "source": [
        "new_words <- c(\"江凱毅\",\"李凱文\",\"王力弘\")"
      ],
      "execution_count": 13,
      "outputs": []
    },
    {
      "cell_type": "code",
      "metadata": {
        "id": "RX7jSZqcvCDb",
        "outputId": "fed2cbb3-baac-486f-fa7c-2e5187f9b642",
        "colab": {
          "base_uri": "https://localhost:8080/",
          "height": 102
        }
      },
      "source": [
        "for(i in 1:length(new_words)){\n",
        "  new_user_word(cutter,new_words[i])\n",
        "}\n",
        "content <- str_remove_all(content,\"[0-9a-zA-z]+?\")\n",
        "cutter[content]"
      ],
      "execution_count": 14,
      "outputs": [
        {
          "output_type": "display_data",
          "data": {
            "text/plain": [
              "  [1] \"修齊\"   \"修齊\"   \"你\"     \"有\"     \"個\"     \"伶俐\"   \"的\"     \"嘴\"    \n",
              "  [9] \"還有\"   \"雙\"     \"女人\"   \"的\"     \"腿\"     \"真愛\"   \"來\"     \"之前\"  \n",
              " [17] \"不用\"   \"找\"     \"女人\"   \"來\"     \"練習\"   \"寂寞\"   \"難過\"   \"就\"    \n",
              " [25] \"摸摸\"   \"自己\"   \"的\"     \"下體\"   \"修齊\"   \"修齊\"   \"別人\"   \"掉\"    \n",
              " [33] \"的\"     \"套套\"   \"不是\"   \"給你\"   \"那\"     \"不\"     \"屬於\"   \"你\"    \n",
              " [41] \"你\"     \"寫\"     \"的\"     \"歌曲\"   \"是\"     \"別人\"   \"拿來\"   \"約妹\"  \n",
              " [49] \"的\"     \"歌曲\"   \"唯一\"   \"不會\"   \"欺騙\"   \"你\"     \"就是\"   \"你\"    \n",
              " [57] \"純真\"   \"的\"     \"下體\"   \"我祝\"   \"你別\"   \"再\"     \"魯\"     \"啦\"    \n",
              " [65] \"別人\"   \"扣雞\"   \"拜\"     \"我們\"   \"在\"     \"找網\"   \"咖\"     \"來看\"  \n",
              " [73] \"我們\"   \"的\"     \"妹子\"   \"在\"     \"共\"     \"演團\"   \"的\"     \"人\"    \n",
              " [81] \"床上\"   \"你\"     \"覺得\"   \"這樣\"   \"很\"     \"風光\"   \"嗎\"     \"你\"    \n",
              " [89] \"也\"     \"不必\"   \"太\"     \"在乎\"   \"啊\"     \"別人\"   \"吃\"     \"菊花\"  \n",
              " [97] \"時\"     \"你\"     \"有\"     \"三花\"   \"白色\"   \"的\"     \"家族\"   \"希望\"  \n",
              "[105] \"就\"     \"弄\"     \"在\"     \"自己\"   \"的\"     \"大腿\"   \"上\"     \"摸摸\"  \n",
              "[113] \"自己\"   \"也\"     \"挺\"     \"高尚\"   \"如果\"   \"保險套\" \"會\"     \"過期\"  \n",
              "[121] \"你\"     \"要給\"   \"我\"     \"還是\"   \"留給\"   \"自己\"   \"衛生紙\" \"裡的\"  \n",
              "[129] \"生命\"   \"就讓\"   \"他\"     \"死去\"   \"今後\"   \"自己\"   \"別\"     \"只\"    \n",
              "[137] \"愛\"     \"自己\"   \"我祝\"   \"你別\"   \"再\"     \"魯\"     \"啦\"     \"別人\"  \n",
              "[145] \"扣雞\"   \"拜\"     \"我們\"   \"在\"     \"找網\"   \"咖\"     \"來看\"   \"我們\"  \n",
              "[153] \"的\"     \"妹子\"   \"在\"     \"共\"     \"演團\"   \"的\"     \"人\"     \"床上\"  \n",
              "[161] \"你\"     \"覺得\"   \"這樣\"   \"很\"     \"風光\"   \"嗎\"     \"你\"     \"也\"    \n",
              "[169] \"不必\"   \"太\"     \"在乎\"   \"啊\"     \"別人\"   \"吃\"     \"菊花\"   \"時\"    \n",
              "[177] \"你\"     \"有\"     \"三花\"   \"白色\"   \"的\"     \"家族\"   \"希望\"   \"就\"    \n",
              "[185] \"弄\"     \"在\"     \"自己\"   \"的\"     \"大腿\"   \"上\"     \"摸摸\"   \"自己\"  \n",
              "[193] \"問問\"   \"自己\"   \"挺\"     \"高尚\"  "
            ],
            "text/latex": "\\begin{enumerate*}\n\\item '修齊'\n\\item '修齊'\n\\item '你'\n\\item '有'\n\\item '個'\n\\item '伶俐'\n\\item '的'\n\\item '嘴'\n\\item '還有'\n\\item '雙'\n\\item '女人'\n\\item '的'\n\\item '腿'\n\\item '真愛'\n\\item '來'\n\\item '之前'\n\\item '不用'\n\\item '找'\n\\item '女人'\n\\item '來'\n\\item '練習'\n\\item '寂寞'\n\\item '難過'\n\\item '就'\n\\item '摸摸'\n\\item '自己'\n\\item '的'\n\\item '下體'\n\\item '修齊'\n\\item '修齊'\n\\item '別人'\n\\item '掉'\n\\item '的'\n\\item '套套'\n\\item '不是'\n\\item '給你'\n\\item '那'\n\\item '不'\n\\item '屬於'\n\\item '你'\n\\item '你'\n\\item '寫'\n\\item '的'\n\\item '歌曲'\n\\item '是'\n\\item '別人'\n\\item '拿來'\n\\item '約妹'\n\\item '的'\n\\item '歌曲'\n\\item '唯一'\n\\item '不會'\n\\item '欺騙'\n\\item '你'\n\\item '就是'\n\\item '你'\n\\item '純真'\n\\item '的'\n\\item '下體'\n\\item '我祝'\n\\item '你別'\n\\item '再'\n\\item '魯'\n\\item '啦'\n\\item '別人'\n\\item '扣雞'\n\\item '拜'\n\\item '我們'\n\\item '在'\n\\item '找網'\n\\item '咖'\n\\item '來看'\n\\item '我們'\n\\item '的'\n\\item '妹子'\n\\item '在'\n\\item '共'\n\\item '演團'\n\\item '的'\n\\item '人'\n\\item '床上'\n\\item '你'\n\\item '覺得'\n\\item '這樣'\n\\item '很'\n\\item '風光'\n\\item '嗎'\n\\item '你'\n\\item '也'\n\\item '不必'\n\\item '太'\n\\item '在乎'\n\\item '啊'\n\\item '別人'\n\\item '吃'\n\\item '菊花'\n\\item '時'\n\\item '你'\n\\item '有'\n\\item '三花'\n\\item '白色'\n\\item '的'\n\\item '家族'\n\\item '希望'\n\\item '就'\n\\item '弄'\n\\item '在'\n\\item '自己'\n\\item '的'\n\\item '大腿'\n\\item '上'\n\\item '摸摸'\n\\item '自己'\n\\item '也'\n\\item '挺'\n\\item '高尚'\n\\item '如果'\n\\item '保險套'\n\\item '會'\n\\item '過期'\n\\item '你'\n\\item '要給'\n\\item '我'\n\\item '還是'\n\\item '留給'\n\\item '自己'\n\\item '衛生紙'\n\\item '裡的'\n\\item '生命'\n\\item '就讓'\n\\item '他'\n\\item '死去'\n\\item '今後'\n\\item '自己'\n\\item '別'\n\\item '只'\n\\item '愛'\n\\item '自己'\n\\item '我祝'\n\\item '你別'\n\\item '再'\n\\item '魯'\n\\item '啦'\n\\item '別人'\n\\item '扣雞'\n\\item '拜'\n\\item '我們'\n\\item '在'\n\\item '找網'\n\\item '咖'\n\\item '來看'\n\\item '我們'\n\\item '的'\n\\item '妹子'\n\\item '在'\n\\item '共'\n\\item '演團'\n\\item '的'\n\\item '人'\n\\item '床上'\n\\item '你'\n\\item '覺得'\n\\item '這樣'\n\\item '很'\n\\item '風光'\n\\item '嗎'\n\\item '你'\n\\item '也'\n\\item '不必'\n\\item '太'\n\\item '在乎'\n\\item '啊'\n\\item '別人'\n\\item '吃'\n\\item '菊花'\n\\item '時'\n\\item '你'\n\\item '有'\n\\item '三花'\n\\item '白色'\n\\item '的'\n\\item '家族'\n\\item '希望'\n\\item '就'\n\\item '弄'\n\\item '在'\n\\item '自己'\n\\item '的'\n\\item '大腿'\n\\item '上'\n\\item '摸摸'\n\\item '自己'\n\\item '問問'\n\\item '自己'\n\\item '挺'\n\\item '高尚'\n\\end{enumerate*}\n",
            "text/markdown": "1. '修齊'\n2. '修齊'\n3. '你'\n4. '有'\n5. '個'\n6. '伶俐'\n7. '的'\n8. '嘴'\n9. '還有'\n10. '雙'\n11. '女人'\n12. '的'\n13. '腿'\n14. '真愛'\n15. '來'\n16. '之前'\n17. '不用'\n18. '找'\n19. '女人'\n20. '來'\n21. '練習'\n22. '寂寞'\n23. '難過'\n24. '就'\n25. '摸摸'\n26. '自己'\n27. '的'\n28. '下體'\n29. '修齊'\n30. '修齊'\n31. '別人'\n32. '掉'\n33. '的'\n34. '套套'\n35. '不是'\n36. '給你'\n37. '那'\n38. '不'\n39. '屬於'\n40. '你'\n41. '你'\n42. '寫'\n43. '的'\n44. '歌曲'\n45. '是'\n46. '別人'\n47. '拿來'\n48. '約妹'\n49. '的'\n50. '歌曲'\n51. '唯一'\n52. '不會'\n53. '欺騙'\n54. '你'\n55. '就是'\n56. '你'\n57. '純真'\n58. '的'\n59. '下體'\n60. '我祝'\n61. '你別'\n62. '再'\n63. '魯'\n64. '啦'\n65. '別人'\n66. '扣雞'\n67. '拜'\n68. '我們'\n69. '在'\n70. '找網'\n71. '咖'\n72. '來看'\n73. '我們'\n74. '的'\n75. '妹子'\n76. '在'\n77. '共'\n78. '演團'\n79. '的'\n80. '人'\n81. '床上'\n82. '你'\n83. '覺得'\n84. '這樣'\n85. '很'\n86. '風光'\n87. '嗎'\n88. '你'\n89. '也'\n90. '不必'\n91. '太'\n92. '在乎'\n93. '啊'\n94. '別人'\n95. '吃'\n96. '菊花'\n97. '時'\n98. '你'\n99. '有'\n100. '三花'\n101. '白色'\n102. '的'\n103. '家族'\n104. '希望'\n105. '就'\n106. '弄'\n107. '在'\n108. '自己'\n109. '的'\n110. '大腿'\n111. '上'\n112. '摸摸'\n113. '自己'\n114. '也'\n115. '挺'\n116. '高尚'\n117. '如果'\n118. '保險套'\n119. '會'\n120. '過期'\n121. '你'\n122. '要給'\n123. '我'\n124. '還是'\n125. '留給'\n126. '自己'\n127. '衛生紙'\n128. '裡的'\n129. '生命'\n130. '就讓'\n131. '他'\n132. '死去'\n133. '今後'\n134. '自己'\n135. '別'\n136. '只'\n137. '愛'\n138. '自己'\n139. '我祝'\n140. '你別'\n141. '再'\n142. '魯'\n143. '啦'\n144. '別人'\n145. '扣雞'\n146. '拜'\n147. '我們'\n148. '在'\n149. '找網'\n150. '咖'\n151. '來看'\n152. '我們'\n153. '的'\n154. '妹子'\n155. '在'\n156. '共'\n157. '演團'\n158. '的'\n159. '人'\n160. '床上'\n161. '你'\n162. '覺得'\n163. '這樣'\n164. '很'\n165. '風光'\n166. '嗎'\n167. '你'\n168. '也'\n169. '不必'\n170. '太'\n171. '在乎'\n172. '啊'\n173. '別人'\n174. '吃'\n175. '菊花'\n176. '時'\n177. '你'\n178. '有'\n179. '三花'\n180. '白色'\n181. '的'\n182. '家族'\n183. '希望'\n184. '就'\n185. '弄'\n186. '在'\n187. '自己'\n188. '的'\n189. '大腿'\n190. '上'\n191. '摸摸'\n192. '自己'\n193. '問問'\n194. '自己'\n195. '挺'\n196. '高尚'\n\n\n",
            "text/html": [
              "<style>\n",
              ".list-inline {list-style: none; margin:0; padding: 0}\n",
              ".list-inline>li {display: inline-block}\n",
              ".list-inline>li:not(:last-child)::after {content: \"\\00b7\"; padding: 0 .5ex}\n",
              "</style>\n",
              "<ol class=list-inline><li>'修齊'</li><li>'修齊'</li><li>'你'</li><li>'有'</li><li>'個'</li><li>'伶俐'</li><li>'的'</li><li>'嘴'</li><li>'還有'</li><li>'雙'</li><li>'女人'</li><li>'的'</li><li>'腿'</li><li>'真愛'</li><li>'來'</li><li>'之前'</li><li>'不用'</li><li>'找'</li><li>'女人'</li><li>'來'</li><li>'練習'</li><li>'寂寞'</li><li>'難過'</li><li>'就'</li><li>'摸摸'</li><li>'自己'</li><li>'的'</li><li>'下體'</li><li>'修齊'</li><li>'修齊'</li><li>'別人'</li><li>'掉'</li><li>'的'</li><li>'套套'</li><li>'不是'</li><li>'給你'</li><li>'那'</li><li>'不'</li><li>'屬於'</li><li>'你'</li><li>'你'</li><li>'寫'</li><li>'的'</li><li>'歌曲'</li><li>'是'</li><li>'別人'</li><li>'拿來'</li><li>'約妹'</li><li>'的'</li><li>'歌曲'</li><li>'唯一'</li><li>'不會'</li><li>'欺騙'</li><li>'你'</li><li>'就是'</li><li>'你'</li><li>'純真'</li><li>'的'</li><li>'下體'</li><li>'我祝'</li><li>'你別'</li><li>'再'</li><li>'魯'</li><li>'啦'</li><li>'別人'</li><li>'扣雞'</li><li>'拜'</li><li>'我們'</li><li>'在'</li><li>'找網'</li><li>'咖'</li><li>'來看'</li><li>'我們'</li><li>'的'</li><li>'妹子'</li><li>'在'</li><li>'共'</li><li>'演團'</li><li>'的'</li><li>'人'</li><li>'床上'</li><li>'你'</li><li>'覺得'</li><li>'這樣'</li><li>'很'</li><li>'風光'</li><li>'嗎'</li><li>'你'</li><li>'也'</li><li>'不必'</li><li>'太'</li><li>'在乎'</li><li>'啊'</li><li>'別人'</li><li>'吃'</li><li>'菊花'</li><li>'時'</li><li>'你'</li><li>'有'</li><li>'三花'</li><li>'白色'</li><li>'的'</li><li>'家族'</li><li>'希望'</li><li>'就'</li><li>'弄'</li><li>'在'</li><li>'自己'</li><li>'的'</li><li>'大腿'</li><li>'上'</li><li>'摸摸'</li><li>'自己'</li><li>'也'</li><li>'挺'</li><li>'高尚'</li><li>'如果'</li><li>'保險套'</li><li>'會'</li><li>'過期'</li><li>'你'</li><li>'要給'</li><li>'我'</li><li>'還是'</li><li>'留給'</li><li>'自己'</li><li>'衛生紙'</li><li>'裡的'</li><li>'生命'</li><li>'就讓'</li><li>'他'</li><li>'死去'</li><li>'今後'</li><li>'自己'</li><li>'別'</li><li>'只'</li><li>'愛'</li><li>'自己'</li><li>'我祝'</li><li>'你別'</li><li>'再'</li><li>'魯'</li><li>'啦'</li><li>'別人'</li><li>'扣雞'</li><li>'拜'</li><li>'我們'</li><li>'在'</li><li>'找網'</li><li>'咖'</li><li>'來看'</li><li>'我們'</li><li>'的'</li><li>'妹子'</li><li>'在'</li><li>'共'</li><li>'演團'</li><li>'的'</li><li>'人'</li><li>'床上'</li><li>'你'</li><li>'覺得'</li><li>'這樣'</li><li>'很'</li><li>'風光'</li><li>'嗎'</li><li>'你'</li><li>'也'</li><li>'不必'</li><li>'太'</li><li>'在乎'</li><li>'啊'</li><li>'別人'</li><li>'吃'</li><li>'菊花'</li><li>'時'</li><li>'你'</li><li>'有'</li><li>'三花'</li><li>'白色'</li><li>'的'</li><li>'家族'</li><li>'希望'</li><li>'就'</li><li>'弄'</li><li>'在'</li><li>'自己'</li><li>'的'</li><li>'大腿'</li><li>'上'</li><li>'摸摸'</li><li>'自己'</li><li>'問問'</li><li>'自己'</li><li>'挺'</li><li>'高尚'</li></ol>\n"
            ]
          },
          "metadata": {
            "tags": []
          }
        }
      ]
    },
    {
      "cell_type": "code",
      "metadata": {
        "id": "8F30U1APvJkz",
        "outputId": "20bc6b89-dac2-412d-b190-c9ae5e89a21d",
        "colab": {
          "base_uri": "https://localhost:8080/",
          "height": 85
        }
      },
      "source": [
        "new_words <- c(\"江凱毅\",\"李凱文\",\"王力弘\")\n",
        "writeLines(new_words,\"new_words.txt\")\n",
        "\n",
        "stop_words <- c(\"你\",\"的\",\"我\",\"在\",\"很\",\"就\",\"啊\")\n",
        "writeLines(stop_words,\"stop_words.txt\")\n",
        "\n",
        "cutter <- worker(user=\"new_words.txt\",stop_word=\"stop_words.txt\",bylines=FALSE)\n",
        "seg_words <- cutter[content]\n",
        "seg_words"
      ],
      "execution_count": 15,
      "outputs": [
        {
          "output_type": "display_data",
          "data": {
            "text/plain": [
              "  [1] \"修齊\"   \"修齊\"   \"有\"     \"個\"     \"伶俐\"   \"嘴\"     \"還有\"   \"雙\"    \n",
              "  [9] \"女人\"   \"腿\"     \"真愛\"   \"來\"     \"之前\"   \"不用\"   \"找\"     \"女人\"  \n",
              " [17] \"來\"     \"練習\"   \"寂寞\"   \"難過\"   \"摸摸\"   \"自己\"   \"下體\"   \"修齊\"  \n",
              " [25] \"修齊\"   \"別人\"   \"掉\"     \"套套\"   \"不是\"   \"給你\"   \"那\"     \"不\"    \n",
              " [33] \"屬於\"   \"寫\"     \"歌曲\"   \"是\"     \"別人\"   \"拿來\"   \"約妹\"   \"歌曲\"  \n",
              " [41] \"唯一\"   \"不會\"   \"欺騙\"   \"就是\"   \"純真\"   \"下體\"   \"我祝\"   \"你別\"  \n",
              " [49] \"再\"     \"魯\"     \"啦\"     \"別人\"   \"扣雞\"   \"拜\"     \"我們\"   \"找網\"  \n",
              " [57] \"咖\"     \"來看\"   \"我們\"   \"妹子\"   \"共\"     \"演團\"   \"人\"     \"床上\"  \n",
              " [65] \"覺得\"   \"這樣\"   \"風光\"   \"嗎\"     \"也\"     \"不必\"   \"太\"     \"在乎\"  \n",
              " [73] \"別人\"   \"吃\"     \"菊花\"   \"時\"     \"有\"     \"三花\"   \"白色\"   \"家族\"  \n",
              " [81] \"希望\"   \"弄\"     \"自己\"   \"大腿\"   \"上\"     \"摸摸\"   \"自己\"   \"也\"    \n",
              " [89] \"挺\"     \"高尚\"   \"如果\"   \"保險套\" \"會\"     \"過期\"   \"要給\"   \"還是\"  \n",
              " [97] \"留給\"   \"自己\"   \"衛生紙\" \"裡的\"   \"生命\"   \"就讓\"   \"他\"     \"死去\"  \n",
              "[105] \"今後\"   \"自己\"   \"別\"     \"只\"     \"愛\"     \"自己\"   \"我祝\"   \"你別\"  \n",
              "[113] \"再\"     \"魯\"     \"啦\"     \"別人\"   \"扣雞\"   \"拜\"     \"我們\"   \"找網\"  \n",
              "[121] \"咖\"     \"來看\"   \"我們\"   \"妹子\"   \"共\"     \"演團\"   \"人\"     \"床上\"  \n",
              "[129] \"覺得\"   \"這樣\"   \"風光\"   \"嗎\"     \"也\"     \"不必\"   \"太\"     \"在乎\"  \n",
              "[137] \"別人\"   \"吃\"     \"菊花\"   \"時\"     \"有\"     \"三花\"   \"白色\"   \"家族\"  \n",
              "[145] \"希望\"   \"弄\"     \"自己\"   \"大腿\"   \"上\"     \"摸摸\"   \"自己\"   \"問問\"  \n",
              "[153] \"自己\"   \"挺\"     \"高尚\"  "
            ],
            "text/latex": "\\begin{enumerate*}\n\\item '修齊'\n\\item '修齊'\n\\item '有'\n\\item '個'\n\\item '伶俐'\n\\item '嘴'\n\\item '還有'\n\\item '雙'\n\\item '女人'\n\\item '腿'\n\\item '真愛'\n\\item '來'\n\\item '之前'\n\\item '不用'\n\\item '找'\n\\item '女人'\n\\item '來'\n\\item '練習'\n\\item '寂寞'\n\\item '難過'\n\\item '摸摸'\n\\item '自己'\n\\item '下體'\n\\item '修齊'\n\\item '修齊'\n\\item '別人'\n\\item '掉'\n\\item '套套'\n\\item '不是'\n\\item '給你'\n\\item '那'\n\\item '不'\n\\item '屬於'\n\\item '寫'\n\\item '歌曲'\n\\item '是'\n\\item '別人'\n\\item '拿來'\n\\item '約妹'\n\\item '歌曲'\n\\item '唯一'\n\\item '不會'\n\\item '欺騙'\n\\item '就是'\n\\item '純真'\n\\item '下體'\n\\item '我祝'\n\\item '你別'\n\\item '再'\n\\item '魯'\n\\item '啦'\n\\item '別人'\n\\item '扣雞'\n\\item '拜'\n\\item '我們'\n\\item '找網'\n\\item '咖'\n\\item '來看'\n\\item '我們'\n\\item '妹子'\n\\item '共'\n\\item '演團'\n\\item '人'\n\\item '床上'\n\\item '覺得'\n\\item '這樣'\n\\item '風光'\n\\item '嗎'\n\\item '也'\n\\item '不必'\n\\item '太'\n\\item '在乎'\n\\item '別人'\n\\item '吃'\n\\item '菊花'\n\\item '時'\n\\item '有'\n\\item '三花'\n\\item '白色'\n\\item '家族'\n\\item '希望'\n\\item '弄'\n\\item '自己'\n\\item '大腿'\n\\item '上'\n\\item '摸摸'\n\\item '自己'\n\\item '也'\n\\item '挺'\n\\item '高尚'\n\\item '如果'\n\\item '保險套'\n\\item '會'\n\\item '過期'\n\\item '要給'\n\\item '還是'\n\\item '留給'\n\\item '自己'\n\\item '衛生紙'\n\\item '裡的'\n\\item '生命'\n\\item '就讓'\n\\item '他'\n\\item '死去'\n\\item '今後'\n\\item '自己'\n\\item '別'\n\\item '只'\n\\item '愛'\n\\item '自己'\n\\item '我祝'\n\\item '你別'\n\\item '再'\n\\item '魯'\n\\item '啦'\n\\item '別人'\n\\item '扣雞'\n\\item '拜'\n\\item '我們'\n\\item '找網'\n\\item '咖'\n\\item '來看'\n\\item '我們'\n\\item '妹子'\n\\item '共'\n\\item '演團'\n\\item '人'\n\\item '床上'\n\\item '覺得'\n\\item '這樣'\n\\item '風光'\n\\item '嗎'\n\\item '也'\n\\item '不必'\n\\item '太'\n\\item '在乎'\n\\item '別人'\n\\item '吃'\n\\item '菊花'\n\\item '時'\n\\item '有'\n\\item '三花'\n\\item '白色'\n\\item '家族'\n\\item '希望'\n\\item '弄'\n\\item '自己'\n\\item '大腿'\n\\item '上'\n\\item '摸摸'\n\\item '自己'\n\\item '問問'\n\\item '自己'\n\\item '挺'\n\\item '高尚'\n\\end{enumerate*}\n",
            "text/markdown": "1. '修齊'\n2. '修齊'\n3. '有'\n4. '個'\n5. '伶俐'\n6. '嘴'\n7. '還有'\n8. '雙'\n9. '女人'\n10. '腿'\n11. '真愛'\n12. '來'\n13. '之前'\n14. '不用'\n15. '找'\n16. '女人'\n17. '來'\n18. '練習'\n19. '寂寞'\n20. '難過'\n21. '摸摸'\n22. '自己'\n23. '下體'\n24. '修齊'\n25. '修齊'\n26. '別人'\n27. '掉'\n28. '套套'\n29. '不是'\n30. '給你'\n31. '那'\n32. '不'\n33. '屬於'\n34. '寫'\n35. '歌曲'\n36. '是'\n37. '別人'\n38. '拿來'\n39. '約妹'\n40. '歌曲'\n41. '唯一'\n42. '不會'\n43. '欺騙'\n44. '就是'\n45. '純真'\n46. '下體'\n47. '我祝'\n48. '你別'\n49. '再'\n50. '魯'\n51. '啦'\n52. '別人'\n53. '扣雞'\n54. '拜'\n55. '我們'\n56. '找網'\n57. '咖'\n58. '來看'\n59. '我們'\n60. '妹子'\n61. '共'\n62. '演團'\n63. '人'\n64. '床上'\n65. '覺得'\n66. '這樣'\n67. '風光'\n68. '嗎'\n69. '也'\n70. '不必'\n71. '太'\n72. '在乎'\n73. '別人'\n74. '吃'\n75. '菊花'\n76. '時'\n77. '有'\n78. '三花'\n79. '白色'\n80. '家族'\n81. '希望'\n82. '弄'\n83. '自己'\n84. '大腿'\n85. '上'\n86. '摸摸'\n87. '自己'\n88. '也'\n89. '挺'\n90. '高尚'\n91. '如果'\n92. '保險套'\n93. '會'\n94. '過期'\n95. '要給'\n96. '還是'\n97. '留給'\n98. '自己'\n99. '衛生紙'\n100. '裡的'\n101. '生命'\n102. '就讓'\n103. '他'\n104. '死去'\n105. '今後'\n106. '自己'\n107. '別'\n108. '只'\n109. '愛'\n110. '自己'\n111. '我祝'\n112. '你別'\n113. '再'\n114. '魯'\n115. '啦'\n116. '別人'\n117. '扣雞'\n118. '拜'\n119. '我們'\n120. '找網'\n121. '咖'\n122. '來看'\n123. '我們'\n124. '妹子'\n125. '共'\n126. '演團'\n127. '人'\n128. '床上'\n129. '覺得'\n130. '這樣'\n131. '風光'\n132. '嗎'\n133. '也'\n134. '不必'\n135. '太'\n136. '在乎'\n137. '別人'\n138. '吃'\n139. '菊花'\n140. '時'\n141. '有'\n142. '三花'\n143. '白色'\n144. '家族'\n145. '希望'\n146. '弄'\n147. '自己'\n148. '大腿'\n149. '上'\n150. '摸摸'\n151. '自己'\n152. '問問'\n153. '自己'\n154. '挺'\n155. '高尚'\n\n\n",
            "text/html": [
              "<style>\n",
              ".list-inline {list-style: none; margin:0; padding: 0}\n",
              ".list-inline>li {display: inline-block}\n",
              ".list-inline>li:not(:last-child)::after {content: \"\\00b7\"; padding: 0 .5ex}\n",
              "</style>\n",
              "<ol class=list-inline><li>'修齊'</li><li>'修齊'</li><li>'有'</li><li>'個'</li><li>'伶俐'</li><li>'嘴'</li><li>'還有'</li><li>'雙'</li><li>'女人'</li><li>'腿'</li><li>'真愛'</li><li>'來'</li><li>'之前'</li><li>'不用'</li><li>'找'</li><li>'女人'</li><li>'來'</li><li>'練習'</li><li>'寂寞'</li><li>'難過'</li><li>'摸摸'</li><li>'自己'</li><li>'下體'</li><li>'修齊'</li><li>'修齊'</li><li>'別人'</li><li>'掉'</li><li>'套套'</li><li>'不是'</li><li>'給你'</li><li>'那'</li><li>'不'</li><li>'屬於'</li><li>'寫'</li><li>'歌曲'</li><li>'是'</li><li>'別人'</li><li>'拿來'</li><li>'約妹'</li><li>'歌曲'</li><li>'唯一'</li><li>'不會'</li><li>'欺騙'</li><li>'就是'</li><li>'純真'</li><li>'下體'</li><li>'我祝'</li><li>'你別'</li><li>'再'</li><li>'魯'</li><li>'啦'</li><li>'別人'</li><li>'扣雞'</li><li>'拜'</li><li>'我們'</li><li>'找網'</li><li>'咖'</li><li>'來看'</li><li>'我們'</li><li>'妹子'</li><li>'共'</li><li>'演團'</li><li>'人'</li><li>'床上'</li><li>'覺得'</li><li>'這樣'</li><li>'風光'</li><li>'嗎'</li><li>'也'</li><li>'不必'</li><li>'太'</li><li>'在乎'</li><li>'別人'</li><li>'吃'</li><li>'菊花'</li><li>'時'</li><li>'有'</li><li>'三花'</li><li>'白色'</li><li>'家族'</li><li>'希望'</li><li>'弄'</li><li>'自己'</li><li>'大腿'</li><li>'上'</li><li>'摸摸'</li><li>'自己'</li><li>'也'</li><li>'挺'</li><li>'高尚'</li><li>'如果'</li><li>'保險套'</li><li>'會'</li><li>'過期'</li><li>'要給'</li><li>'還是'</li><li>'留給'</li><li>'自己'</li><li>'衛生紙'</li><li>'裡的'</li><li>'生命'</li><li>'就讓'</li><li>'他'</li><li>'死去'</li><li>'今後'</li><li>'自己'</li><li>'別'</li><li>'只'</li><li>'愛'</li><li>'自己'</li><li>'我祝'</li><li>'你別'</li><li>'再'</li><li>'魯'</li><li>'啦'</li><li>'別人'</li><li>'扣雞'</li><li>'拜'</li><li>'我們'</li><li>'找網'</li><li>'咖'</li><li>'來看'</li><li>'我們'</li><li>'妹子'</li><li>'共'</li><li>'演團'</li><li>'人'</li><li>'床上'</li><li>'覺得'</li><li>'這樣'</li><li>'風光'</li><li>'嗎'</li><li>'也'</li><li>'不必'</li><li>'太'</li><li>'在乎'</li><li>'別人'</li><li>'吃'</li><li>'菊花'</li><li>'時'</li><li>'有'</li><li>'三花'</li><li>'白色'</li><li>'家族'</li><li>'希望'</li><li>'弄'</li><li>'自己'</li><li>'大腿'</li><li>'上'</li><li>'摸摸'</li><li>'自己'</li><li>'問問'</li><li>'自己'</li><li>'挺'</li><li>'高尚'</li></ol>\n"
            ]
          },
          "metadata": {
            "tags": []
          }
        }
      ]
    },
    {
      "cell_type": "code",
      "metadata": {
        "id": "wk4Ac0bmvT1y",
        "outputId": "58ba0a64-d615-4063-94f5-e8e6440a57d9",
        "colab": {
          "base_uri": "https://localhost:8080/",
          "height": 221
        }
      },
      "source": [
        "txt_freq <- freq(seg_words)\n",
        "\n",
        "txt_freq <- arrange(txt_freq,desc(freq))\n",
        "\n",
        "head(txt_freq)"
      ],
      "execution_count": 16,
      "outputs": [
        {
          "output_type": "display_data",
          "data": {
            "text/plain": [
              "  char freq\n",
              "1 自己 9   \n",
              "2 別人 6   \n",
              "3 我們 4   \n",
              "4 修齊 4   \n",
              "5 摸摸 3   \n",
              "6 有   3   "
            ],
            "text/latex": "A data.frame: 6 × 2\n\\begin{tabular}{r|ll}\n  & char & freq\\\\\n  & <chr> & <dbl>\\\\\n\\hline\n\t1 & 自己 & 9\\\\\n\t2 & 別人 & 6\\\\\n\t3 & 我們 & 4\\\\\n\t4 & 修齊 & 4\\\\\n\t5 & 摸摸 & 3\\\\\n\t6 & 有   & 3\\\\\n\\end{tabular}\n",
            "text/markdown": "\nA data.frame: 6 × 2\n\n| <!--/--> | char &lt;chr&gt; | freq &lt;dbl&gt; |\n|---|---|---|\n| 1 | 自己 | 9 |\n| 2 | 別人 | 6 |\n| 3 | 我們 | 4 |\n| 4 | 修齊 | 4 |\n| 5 | 摸摸 | 3 |\n| 6 | 有   | 3 |\n\n",
            "text/html": [
              "<table>\n",
              "<caption>A data.frame: 6 × 2</caption>\n",
              "<thead>\n",
              "\t<tr><th></th><th scope=col>char</th><th scope=col>freq</th></tr>\n",
              "\t<tr><th></th><th scope=col>&lt;chr&gt;</th><th scope=col>&lt;dbl&gt;</th></tr>\n",
              "</thead>\n",
              "<tbody>\n",
              "\t<tr><th scope=row>1</th><td>自己</td><td>9</td></tr>\n",
              "\t<tr><th scope=row>2</th><td>別人</td><td>6</td></tr>\n",
              "\t<tr><th scope=row>3</th><td>我們</td><td>4</td></tr>\n",
              "\t<tr><th scope=row>4</th><td>修齊</td><td>4</td></tr>\n",
              "\t<tr><th scope=row>5</th><td>摸摸</td><td>3</td></tr>\n",
              "\t<tr><th scope=row>6</th><td>有  </td><td>3</td></tr>\n",
              "</tbody>\n",
              "</table>\n"
            ]
          },
          "metadata": {
            "tags": []
          }
        }
      ]
    },
    {
      "cell_type": "code",
      "metadata": {
        "id": "U0sm_OBtvXAb",
        "outputId": "d7480adb-c7e0-4980-ceff-e09c0403a7e9",
        "colab": {
          "base_uri": "https://localhost:8080/"
        }
      },
      "source": [
        "par(family=(\"Microsoft YaHei\"))\n",
        "install.packages(\"showtext\")\n",
        "library(showtext)\n",
        "showtext.auto(enable=TRUE)"
      ],
      "execution_count": 17,
      "outputs": [
        {
          "output_type": "stream",
          "text": [
            "Installing package into ‘/usr/local/lib/R/site-library’\n",
            "(as ‘lib’ is unspecified)\n",
            "\n"
          ],
          "name": "stderr"
        }
      ]
    },
    {
      "cell_type": "code",
      "metadata": {
        "id": "W6fH9_A3vgdz",
        "outputId": "5a7d1dc5-6dea-4d75-94eb-4bffd87494ff",
        "colab": {
          "base_uri": "https://localhost:8080/",
          "height": 1000
        }
      },
      "source": [
        "wordcloud(txt_freq$char, txt_freq$freq, min.freq=2, random.order=F,order.colors=F,colors=rainbow(nrow(txt_freq)))"
      ],
      "execution_count": 18,
      "outputs": [
        {
          "output_type": "stream",
          "text": [
            "Warning message in strwidth(words[i], cex = size[i], ...):\n",
            "“\"order.colors\" is not a graphical parameter”\n",
            "Warning message in strheight(words[i], cex = size[i], ...):\n",
            "“\"order.colors\" is not a graphical parameter”\n",
            "Warning message in text.default(x1, y1, words[i], cex = size[i], offset = 0, srt = rotWord * :\n",
            "“\"order.colors\" is not a graphical parameter”\n",
            "Warning message in strwidth(words[i], cex = size[i], ...):\n",
            "“\"order.colors\" is not a graphical parameter”\n",
            "Warning message in strheight(words[i], cex = size[i], ...):\n",
            "“\"order.colors\" is not a graphical parameter”\n",
            "Warning message in text.default(x1, y1, words[i], cex = size[i], offset = 0, srt = rotWord * :\n",
            "“\"order.colors\" is not a graphical parameter”\n",
            "Warning message in strwidth(words[i], cex = size[i], ...):\n",
            "“\"order.colors\" is not a graphical parameter”\n",
            "Warning message in strheight(words[i], cex = size[i], ...):\n",
            "“\"order.colors\" is not a graphical parameter”\n",
            "Warning message in text.default(x1, y1, words[i], cex = size[i], offset = 0, srt = rotWord * :\n",
            "“\"order.colors\" is not a graphical parameter”\n",
            "Warning message in strwidth(words[i], cex = size[i], ...):\n",
            "“\"order.colors\" is not a graphical parameter”\n",
            "Warning message in strheight(words[i], cex = size[i], ...):\n",
            "“\"order.colors\" is not a graphical parameter”\n",
            "Warning message in text.default(x1, y1, words[i], cex = size[i], offset = 0, srt = rotWord * :\n",
            "“\"order.colors\" is not a graphical parameter”\n",
            "Warning message in strwidth(words[i], cex = size[i], ...):\n",
            "“\"order.colors\" is not a graphical parameter”\n",
            "Warning message in strheight(words[i], cex = size[i], ...):\n",
            "“\"order.colors\" is not a graphical parameter”\n",
            "Warning message in text.default(x1, y1, words[i], cex = size[i], offset = 0, srt = rotWord * :\n",
            "“\"order.colors\" is not a graphical parameter”\n",
            "Warning message in strwidth(words[i], cex = size[i], ...):\n",
            "“\"order.colors\" is not a graphical parameter”\n",
            "Warning message in strheight(words[i], cex = size[i], ...):\n",
            "“\"order.colors\" is not a graphical parameter”\n",
            "Warning message in text.default(x1, y1, words[i], cex = size[i], offset = 0, srt = rotWord * :\n",
            "“\"order.colors\" is not a graphical parameter”\n",
            "Warning message in strwidth(words[i], cex = size[i], ...):\n",
            "“\"order.colors\" is not a graphical parameter”\n",
            "Warning message in strheight(words[i], cex = size[i], ...):\n",
            "“\"order.colors\" is not a graphical parameter”\n",
            "Warning message in text.default(x1, y1, words[i], cex = size[i], offset = 0, srt = rotWord * :\n",
            "“\"order.colors\" is not a graphical parameter”\n",
            "Warning message in strwidth(words[i], cex = size[i], ...):\n",
            "“\"order.colors\" is not a graphical parameter”\n",
            "Warning message in strheight(words[i], cex = size[i], ...):\n",
            "“\"order.colors\" is not a graphical parameter”\n",
            "Warning message in text.default(x1, y1, words[i], cex = size[i], offset = 0, srt = rotWord * :\n",
            "“\"order.colors\" is not a graphical parameter”\n",
            "Warning message in strwidth(words[i], cex = size[i], ...):\n",
            "“\"order.colors\" is not a graphical parameter”\n",
            "Warning message in strheight(words[i], cex = size[i], ...):\n",
            "“\"order.colors\" is not a graphical parameter”\n",
            "Warning message in text.default(x1, y1, words[i], cex = size[i], offset = 0, srt = rotWord * :\n",
            "“\"order.colors\" is not a graphical parameter”\n",
            "Warning message in strwidth(words[i], cex = size[i], ...):\n",
            "“\"order.colors\" is not a graphical parameter”\n",
            "Warning message in strheight(words[i], cex = size[i], ...):\n",
            "“\"order.colors\" is not a graphical parameter”\n",
            "Warning message in text.default(x1, y1, words[i], cex = size[i], offset = 0, srt = rotWord * :\n",
            "“\"order.colors\" is not a graphical parameter”\n",
            "Warning message in strwidth(words[i], cex = size[i], ...):\n",
            "“\"order.colors\" is not a graphical parameter”\n",
            "Warning message in strheight(words[i], cex = size[i], ...):\n",
            "“\"order.colors\" is not a graphical parameter”\n",
            "Warning message in text.default(x1, y1, words[i], cex = size[i], offset = 0, srt = rotWord * :\n",
            "“\"order.colors\" is not a graphical parameter”\n",
            "Warning message in strwidth(words[i], cex = size[i], ...):\n",
            "“\"order.colors\" is not a graphical parameter”\n",
            "Warning message in strheight(words[i], cex = size[i], ...):\n",
            "“\"order.colors\" is not a graphical parameter”\n",
            "Warning message in text.default(x1, y1, words[i], cex = size[i], offset = 0, srt = rotWord * :\n",
            "“\"order.colors\" is not a graphical parameter”\n",
            "Warning message in strwidth(words[i], cex = size[i], ...):\n",
            "“\"order.colors\" is not a graphical parameter”\n",
            "Warning message in strheight(words[i], cex = size[i], ...):\n",
            "“\"order.colors\" is not a graphical parameter”\n",
            "Warning message in text.default(x1, y1, words[i], cex = size[i], offset = 0, srt = rotWord * :\n",
            "“\"order.colors\" is not a graphical parameter”\n",
            "Warning message in strwidth(words[i], cex = size[i], ...):\n",
            "“\"order.colors\" is not a graphical parameter”\n",
            "Warning message in strheight(words[i], cex = size[i], ...):\n",
            "“\"order.colors\" is not a graphical parameter”\n",
            "Warning message in text.default(x1, y1, words[i], cex = size[i], offset = 0, srt = rotWord * :\n",
            "“\"order.colors\" is not a graphical parameter”\n",
            "Warning message in strwidth(words[i], cex = size[i], ...):\n",
            "“\"order.colors\" is not a graphical parameter”\n",
            "Warning message in strheight(words[i], cex = size[i], ...):\n",
            "“\"order.colors\" is not a graphical parameter”\n",
            "Warning message in text.default(x1, y1, words[i], cex = size[i], offset = 0, srt = rotWord * :\n",
            "“\"order.colors\" is not a graphical parameter”\n",
            "Warning message in strwidth(words[i], cex = size[i], ...):\n",
            "“\"order.colors\" is not a graphical parameter”\n",
            "Warning message in strheight(words[i], cex = size[i], ...):\n",
            "“\"order.colors\" is not a graphical parameter”\n",
            "Warning message in text.default(x1, y1, words[i], cex = size[i], offset = 0, srt = rotWord * :\n",
            "“\"order.colors\" is not a graphical parameter”\n",
            "Warning message in strwidth(words[i], cex = size[i], ...):\n",
            "“\"order.colors\" is not a graphical parameter”\n",
            "Warning message in strheight(words[i], cex = size[i], ...):\n",
            "“\"order.colors\" is not a graphical parameter”\n",
            "Warning message in text.default(x1, y1, words[i], cex = size[i], offset = 0, srt = rotWord * :\n",
            "“\"order.colors\" is not a graphical parameter”\n",
            "Warning message in strwidth(words[i], cex = size[i], ...):\n",
            "“\"order.colors\" is not a graphical parameter”\n",
            "Warning message in strheight(words[i], cex = size[i], ...):\n",
            "“\"order.colors\" is not a graphical parameter”\n",
            "Warning message in text.default(x1, y1, words[i], cex = size[i], offset = 0, srt = rotWord * :\n",
            "“\"order.colors\" is not a graphical parameter”\n",
            "Warning message in strwidth(words[i], cex = size[i], ...):\n",
            "“\"order.colors\" is not a graphical parameter”\n",
            "Warning message in strheight(words[i], cex = size[i], ...):\n",
            "“\"order.colors\" is not a graphical parameter”\n",
            "Warning message in text.default(x1, y1, words[i], cex = size[i], offset = 0, srt = rotWord * :\n",
            "“\"order.colors\" is not a graphical parameter”\n",
            "Warning message in strwidth(words[i], cex = size[i], ...):\n",
            "“\"order.colors\" is not a graphical parameter”\n",
            "Warning message in strheight(words[i], cex = size[i], ...):\n",
            "“\"order.colors\" is not a graphical parameter”\n",
            "Warning message in text.default(x1, y1, words[i], cex = size[i], offset = 0, srt = rotWord * :\n",
            "“\"order.colors\" is not a graphical parameter”\n",
            "Warning message in strwidth(words[i], cex = size[i], ...):\n",
            "“\"order.colors\" is not a graphical parameter”\n",
            "Warning message in strheight(words[i], cex = size[i], ...):\n",
            "“\"order.colors\" is not a graphical parameter”\n",
            "Warning message in text.default(x1, y1, words[i], cex = size[i], offset = 0, srt = rotWord * :\n",
            "“\"order.colors\" is not a graphical parameter”\n",
            "Warning message in strwidth(words[i], cex = size[i], ...):\n",
            "“\"order.colors\" is not a graphical parameter”\n",
            "Warning message in strheight(words[i], cex = size[i], ...):\n",
            "“\"order.colors\" is not a graphical parameter”\n",
            "Warning message in text.default(x1, y1, words[i], cex = size[i], offset = 0, srt = rotWord * :\n",
            "“\"order.colors\" is not a graphical parameter”\n",
            "Warning message in strwidth(words[i], cex = size[i], ...):\n",
            "“\"order.colors\" is not a graphical parameter”\n",
            "Warning message in strheight(words[i], cex = size[i], ...):\n",
            "“\"order.colors\" is not a graphical parameter”\n",
            "Warning message in text.default(x1, y1, words[i], cex = size[i], offset = 0, srt = rotWord * :\n",
            "“\"order.colors\" is not a graphical parameter”\n",
            "Warning message in strwidth(words[i], cex = size[i], ...):\n",
            "“\"order.colors\" is not a graphical parameter”\n",
            "Warning message in strheight(words[i], cex = size[i], ...):\n",
            "“\"order.colors\" is not a graphical parameter”\n",
            "Warning message in text.default(x1, y1, words[i], cex = size[i], offset = 0, srt = rotWord * :\n",
            "“\"order.colors\" is not a graphical parameter”\n",
            "Warning message in strwidth(words[i], cex = size[i], ...):\n",
            "“\"order.colors\" is not a graphical parameter”\n",
            "Warning message in strheight(words[i], cex = size[i], ...):\n",
            "“\"order.colors\" is not a graphical parameter”\n",
            "Warning message in text.default(x1, y1, words[i], cex = size[i], offset = 0, srt = rotWord * :\n",
            "“\"order.colors\" is not a graphical parameter”\n",
            "Warning message in strwidth(words[i], cex = size[i], ...):\n",
            "“\"order.colors\" is not a graphical parameter”\n",
            "Warning message in strheight(words[i], cex = size[i], ...):\n",
            "“\"order.colors\" is not a graphical parameter”\n",
            "Warning message in text.default(x1, y1, words[i], cex = size[i], offset = 0, srt = rotWord * :\n",
            "“\"order.colors\" is not a graphical parameter”\n",
            "Warning message in strwidth(words[i], cex = size[i], ...):\n",
            "“\"order.colors\" is not a graphical parameter”\n",
            "Warning message in strheight(words[i], cex = size[i], ...):\n",
            "“\"order.colors\" is not a graphical parameter”\n",
            "Warning message in text.default(x1, y1, words[i], cex = size[i], offset = 0, srt = rotWord * :\n",
            "“\"order.colors\" is not a graphical parameter”\n",
            "Warning message in strwidth(words[i], cex = size[i], ...):\n",
            "“\"order.colors\" is not a graphical parameter”\n",
            "Warning message in strheight(words[i], cex = size[i], ...):\n",
            "“\"order.colors\" is not a graphical parameter”\n",
            "Warning message in text.default(x1, y1, words[i], cex = size[i], offset = 0, srt = rotWord * :\n",
            "“\"order.colors\" is not a graphical parameter”\n",
            "Warning message in strwidth(words[i], cex = size[i], ...):\n",
            "“\"order.colors\" is not a graphical parameter”\n",
            "Warning message in strheight(words[i], cex = size[i], ...):\n",
            "“\"order.colors\" is not a graphical parameter”\n",
            "Warning message in text.default(x1, y1, words[i], cex = size[i], offset = 0, srt = rotWord * :\n",
            "“\"order.colors\" is not a graphical parameter”\n",
            "Warning message in strwidth(words[i], cex = size[i], ...):\n",
            "“\"order.colors\" is not a graphical parameter”\n",
            "Warning message in strheight(words[i], cex = size[i], ...):\n",
            "“\"order.colors\" is not a graphical parameter”\n",
            "Warning message in text.default(x1, y1, words[i], cex = size[i], offset = 0, srt = rotWord * :\n",
            "“\"order.colors\" is not a graphical parameter”\n",
            "Warning message in strwidth(words[i], cex = size[i], ...):\n",
            "“\"order.colors\" is not a graphical parameter”\n",
            "Warning message in strheight(words[i], cex = size[i], ...):\n",
            "“\"order.colors\" is not a graphical parameter”\n",
            "Warning message in text.default(x1, y1, words[i], cex = size[i], offset = 0, srt = rotWord * :\n",
            "“\"order.colors\" is not a graphical parameter”\n",
            "Warning message in strwidth(words[i], cex = size[i], ...):\n",
            "“\"order.colors\" is not a graphical parameter”\n",
            "Warning message in strheight(words[i], cex = size[i], ...):\n",
            "“\"order.colors\" is not a graphical parameter”\n",
            "Warning message in text.default(x1, y1, words[i], cex = size[i], offset = 0, srt = rotWord * :\n",
            "“\"order.colors\" is not a graphical parameter”\n",
            "Warning message in strwidth(words[i], cex = size[i], ...):\n",
            "“\"order.colors\" is not a graphical parameter”\n",
            "Warning message in strheight(words[i], cex = size[i], ...):\n",
            "“\"order.colors\" is not a graphical parameter”\n",
            "Warning message in text.default(x1, y1, words[i], cex = size[i], offset = 0, srt = rotWord * :\n",
            "“\"order.colors\" is not a graphical parameter”\n",
            "Warning message in strwidth(words[i], cex = size[i], ...):\n",
            "“\"order.colors\" is not a graphical parameter”\n",
            "Warning message in strheight(words[i], cex = size[i], ...):\n",
            "“\"order.colors\" is not a graphical parameter”\n",
            "Warning message in text.default(x1, y1, words[i], cex = size[i], offset = 0, srt = rotWord * :\n",
            "“\"order.colors\" is not a graphical parameter”\n",
            "Warning message in strwidth(words[i], cex = size[i], ...):\n",
            "“\"order.colors\" is not a graphical parameter”\n",
            "Warning message in strheight(words[i], cex = size[i], ...):\n",
            "“\"order.colors\" is not a graphical parameter”\n",
            "Warning message in text.default(x1, y1, words[i], cex = size[i], offset = 0, srt = rotWord * :\n",
            "“\"order.colors\" is not a graphical parameter”\n",
            "Warning message in strwidth(words[i], cex = size[i], ...):\n",
            "“\"order.colors\" is not a graphical parameter”\n",
            "Warning message in strheight(words[i], cex = size[i], ...):\n",
            "“\"order.colors\" is not a graphical parameter”\n",
            "Warning message in text.default(x1, y1, words[i], cex = size[i], offset = 0, srt = rotWord * :\n",
            "“\"order.colors\" is not a graphical parameter”\n",
            "Warning message in strwidth(words[i], cex = size[i], ...):\n",
            "“\"order.colors\" is not a graphical parameter”\n",
            "Warning message in strheight(words[i], cex = size[i], ...):\n",
            "“\"order.colors\" is not a graphical parameter”\n",
            "Warning message in text.default(x1, y1, words[i], cex = size[i], offset = 0, srt = rotWord * :\n",
            "“\"order.colors\" is not a graphical parameter”\n",
            "Warning message in strwidth(words[i], cex = size[i], ...):\n",
            "“\"order.colors\" is not a graphical parameter”\n",
            "Warning message in strheight(words[i], cex = size[i], ...):\n",
            "“\"order.colors\" is not a graphical parameter”\n",
            "Warning message in text.default(x1, y1, words[i], cex = size[i], offset = 0, srt = rotWord * :\n",
            "“\"order.colors\" is not a graphical parameter”\n",
            "Warning message in strwidth(words[i], cex = size[i], ...):\n",
            "“\"order.colors\" is not a graphical parameter”\n",
            "Warning message in strheight(words[i], cex = size[i], ...):\n",
            "“\"order.colors\" is not a graphical parameter”\n",
            "Warning message in text.default(x1, y1, words[i], cex = size[i], offset = 0, srt = rotWord * :\n",
            "“\"order.colors\" is not a graphical parameter”\n",
            "Warning message in strwidth(words[i], cex = size[i], ...):\n",
            "“\"order.colors\" is not a graphical parameter”\n",
            "Warning message in strheight(words[i], cex = size[i], ...):\n",
            "“\"order.colors\" is not a graphical parameter”\n",
            "Warning message in text.default(x1, y1, words[i], cex = size[i], offset = 0, srt = rotWord * :\n",
            "“\"order.colors\" is not a graphical parameter”\n",
            "Warning message in strwidth(words[i], cex = size[i], ...):\n",
            "“\"order.colors\" is not a graphical parameter”\n",
            "Warning message in strheight(words[i], cex = size[i], ...):\n",
            "“\"order.colors\" is not a graphical parameter”\n",
            "Warning message in text.default(x1, y1, words[i], cex = size[i], offset = 0, srt = rotWord * :\n",
            "“\"order.colors\" is not a graphical parameter”\n",
            "Warning message in strwidth(words[i], cex = size[i], ...):\n",
            "“\"order.colors\" is not a graphical parameter”\n",
            "Warning message in strheight(words[i], cex = size[i], ...):\n",
            "“\"order.colors\" is not a graphical parameter”\n",
            "Warning message in text.default(x1, y1, words[i], cex = size[i], offset = 0, srt = rotWord * :\n",
            "“\"order.colors\" is not a graphical parameter”\n",
            "Warning message in strwidth(words[i], cex = size[i], ...):\n",
            "“\"order.colors\" is not a graphical parameter”\n",
            "Warning message in strheight(words[i], cex = size[i], ...):\n",
            "“\"order.colors\" is not a graphical parameter”\n",
            "Warning message in text.default(x1, y1, words[i], cex = size[i], offset = 0, srt = rotWord * :\n",
            "“\"order.colors\" is not a graphical parameter”\n",
            "Warning message in strwidth(words[i], cex = size[i], ...):\n",
            "“\"order.colors\" is not a graphical parameter”\n",
            "Warning message in strheight(words[i], cex = size[i], ...):\n",
            "“\"order.colors\" is not a graphical parameter”\n",
            "Warning message in text.default(x1, y1, words[i], cex = size[i], offset = 0, srt = rotWord * :\n",
            "“\"order.colors\" is not a graphical parameter”\n",
            "Warning message in strwidth(words[i], cex = size[i], ...):\n",
            "“\"order.colors\" is not a graphical parameter”\n",
            "Warning message in strheight(words[i], cex = size[i], ...):\n",
            "“\"order.colors\" is not a graphical parameter”\n",
            "Warning message in text.default(x1, y1, words[i], cex = size[i], offset = 0, srt = rotWord * :\n",
            "“\"order.colors\" is not a graphical parameter”\n"
          ],
          "name": "stderr"
        },
        {
          "output_type": "display_data",
          "data": {
            "image/png": "[encoded data removed]",
            "text/plain": [
              "plot without title"
            ]
          },
          "metadata": {
            "tags": [],
            "image/png": {
              "width": 420,
              "height": 420
            }
          }
        }
      ]
    }
  ]
}